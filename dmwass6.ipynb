{
 "cells": [
  {
   "cell_type": "code",
   "execution_count": 1,
   "id": "0bf5b284-049f-4d68-91c0-7a3e676cbdde",
   "metadata": {},
   "outputs": [
    {
     "name": "stdout",
     "output_type": "stream",
     "text": [
      "\n",
      "First 5 rows of dataset:\n",
      "\n",
      "   sepal_length  sepal_width  petal_length  petal_width species\n",
      "0           5.1          3.5           1.4          0.2  setosa\n",
      "1           4.9          3.0           1.4          0.2  setosa\n",
      "2           4.7          3.2           1.3          0.2  setosa\n",
      "3           4.6          3.1           1.5          0.2  setosa\n",
      "4           5.0          3.6           1.4          0.2  setosa\n",
      "\n",
      "Accuracy using Logistic Regression: 1.0000\n",
      "\n",
      "Accuracy using Decision Tree: 1.0000\n",
      "\n",
      "Accuracy using K-Nearest Neighbors (KNN): 1.0000\n",
      "\n",
      "--- Comparative Analysis ---\n",
      "Logistic Regression: 100.00%\n",
      "Decision Tree: 100.00%\n",
      "K-Nearest Neighbors (KNN): 100.00%\n"
     ]
    }
   ],
   "source": [
    "'''Classify iris plants into three species use following dataset https://www.kaggle.com/datasets/uciml/iris \n",
    "(Give comparative analysis of any three classification techniques based on accuracy).'''\n",
    "# Import libraries\n",
    "import pandas as pd\n",
    "from sklearn.model_selection import train_test_split\n",
    "from sklearn.preprocessing import LabelEncoder\n",
    "from sklearn.metrics import accuracy_score\n",
    "from sklearn.linear_model import LogisticRegression\n",
    "from sklearn.tree import DecisionTreeClassifier\n",
    "from sklearn.neighbors import KNeighborsClassifier\n",
    "\n",
    "# 1. Load dataset\n",
    "url = \"https://raw.githubusercontent.com/uiuc-cse/data-fa14/gh-pages/data/iris.csv\"\n",
    "iris = pd.read_csv(url)\n",
    "\n",
    "print(\"\\nFirst 5 rows of dataset:\\n\")\n",
    "print(iris.head())\n",
    "\n",
    "# 2. Preprocessing\n",
    "X = iris.drop('species', axis=1)   # Features\n",
    "y = iris['species']                # Labels\n",
    "\n",
    "# Encode species labels (if needed, here sklearn can handle strings too)\n",
    "# encoder = LabelEncoder()\n",
    "# y = encoder.fit_transform(y)\n",
    "\n",
    "# Train-test split\n",
    "X_train, X_test, y_train, y_test = train_test_split(X, y, test_size=0.3, random_state=42)\n",
    "\n",
    "# 3. Classifiers\n",
    "models = {\n",
    "    \"Logistic Regression\": LogisticRegression(max_iter=200),\n",
    "    \"Decision Tree\": DecisionTreeClassifier(),\n",
    "    \"K-Nearest Neighbors (KNN)\": KNeighborsClassifier()\n",
    "}\n",
    "\n",
    "# 4. Train and Evaluate\n",
    "accuracies = {}\n",
    "\n",
    "for name, model in models.items():\n",
    "    model.fit(X_train, y_train)\n",
    "    y_pred = model.predict(X_test)\n",
    "    acc = accuracy_score(y_test, y_pred)\n",
    "    accuracies[name] = acc\n",
    "    print(f\"\\nAccuracy using {name}: {acc:.4f}\")\n",
    "\n",
    "# 5. Comparative Analysis\n",
    "print(\"\\n--- Comparative Analysis ---\")\n",
    "for name, acc in accuracies.items():\n",
    "    print(f\"{name}: {acc*100:.2f}%\")\n"
   ]
  },
  {
   "cell_type": "code",
   "execution_count": null,
   "id": "5e4bc438-7e11-4bf9-9a23-04d53d3c0f1e",
   "metadata": {},
   "outputs": [],
   "source": []
  }
 ],
 "metadata": {
  "kernelspec": {
   "display_name": "Python 3 (ipykernel)",
   "language": "python",
   "name": "python3"
  },
  "language_info": {
   "codemirror_mode": {
    "name": "ipython",
    "version": 3
   },
   "file_extension": ".py",
   "mimetype": "text/x-python",
   "name": "python",
   "nbconvert_exporter": "python",
   "pygments_lexer": "ipython3",
   "version": "3.12.4"
  }
 },
 "nbformat": 4,
 "nbformat_minor": 5
}
