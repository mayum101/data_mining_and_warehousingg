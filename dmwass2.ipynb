{
 "cells": [
  {
   "cell_type": "code",
   "execution_count": 3,
   "id": "0aa57f53-2e5e-4f10-abe8-50ad89623295",
   "metadata": {},
   "outputs": [
    {
     "name": "stdout",
     "output_type": "stream",
     "text": [
      "      age  sex  cp  trestbps  chol  fbs  restecg  thalach  exang  oldpeak  \\\n",
      "0      52    1   0       125   212    0        1      168      0      1.0   \n",
      "1      53    1   0       140   203    1        0      155      1      3.1   \n",
      "2      70    1   0       145   174    0        1      125      1      2.6   \n",
      "3      61    1   0       148   203    0        1      161      0      0.0   \n",
      "4      62    0   0       138   294    1        1      106      0      1.9   \n",
      "...   ...  ...  ..       ...   ...  ...      ...      ...    ...      ...   \n",
      "1020   59    1   1       140   221    0        1      164      1      0.0   \n",
      "1021   60    1   0       125   258    0        0      141      1      2.8   \n",
      "1022   47    1   0       110   275    0        0      118      1      1.0   \n",
      "1023   50    0   0       110   254    0        0      159      0      0.0   \n",
      "1024   54    1   0       120   188    0        1      113      0      1.4   \n",
      "\n",
      "      slope  ca  thal  target  \n",
      "0         2   2     3       0  \n",
      "1         0   0     3       0  \n",
      "2         0   0     3       0  \n",
      "3         2   1     3       0  \n",
      "4         1   3     2       0  \n",
      "...     ...  ..   ...     ...  \n",
      "1020      2   0     2       1  \n",
      "1021      1   1     3       0  \n",
      "1022      1   1     2       0  \n",
      "1023      2   0     2       1  \n",
      "1024      1   1     3       0  \n",
      "\n",
      "[1025 rows x 14 columns]\n"
     ]
    }
   ],
   "source": [
    "'''Data Discretization and Data Normalization. Use any suitable dataset (e.g. heart dataset https://www.kaggle.com/zhaoyingzhu/heartesv ). \n",
    "Perform following operations on given dataset suitable programming language. a) Find standard deviation, variance of every numerical attribute. b) Find covariance and perform Correlation analysis using Correlation coefficient. c) How many independent features are present in the given dataset? d) Can we identify unwanted features? e) Perform the data discretization using equi frequency binning method on age attribute f) Normalize RestBP, \n",
    "chol, and MaxHR attributes (considering above dataset) using min-max normalization, Z-score normalization, and decimal scaling normalization.'''\n",
    "import pandas as pd\n",
    "import numpy as np\n",
    "from scipy.stats import zscore\n",
    "\n",
    "# Step 1: Load the dataset\n",
    "df = pd.read_csv(r\"C:\\Users\\Asus\\OneDrive\\Desktop\\Heart.csv\")\n",
    "print(df)"
   ]
  },
  {
   "cell_type": "code",
   "execution_count": 21,
   "id": "b3b02ddd-f9d0-4e86-8e0f-c6b00d455b64",
   "metadata": {},
   "outputs": [
    {
     "name": "stdout",
     "output_type": "stream",
     "text": [
      "Standard Deviation:\n",
      " age          9.082101\n",
      "sex          0.466011\n",
      "cp           1.032052\n",
      "trestbps    17.538143\n",
      "chol        51.830751\n",
      "fbs          0.356198\n",
      "restecg      0.525860\n",
      "thalach     22.905161\n",
      "exang        0.469794\n",
      "oldpeak      1.161075\n",
      "slope        0.616226\n",
      "ca           1.022606\n",
      "thal         0.612277\n",
      "target       0.498835\n",
      "dtype: float64\n",
      "\n",
      "Variance:\n",
      " age           82.484558\n",
      "sex            0.217166\n",
      "cp             1.065132\n",
      "trestbps     307.586453\n",
      "chol        2686.426748\n",
      "fbs            0.126877\n",
      "restecg        0.276528\n",
      "thalach      524.646406\n",
      "exang          0.220707\n",
      "oldpeak        1.348095\n",
      "slope          0.379735\n",
      "ca             1.045724\n",
      "thal           0.374883\n",
      "target         0.248836\n",
      "dtype: float64\n"
     ]
    }
   ],
   "source": [
    "#Standard Deviation and Variance\n",
    "std_dev = df.std()\n",
    "variance = df.var()\n",
    "print(\"Standard Deviation:\\n\", std_dev)\n",
    "print(\"\\nVariance:\\n\", variance)"
   ]
  },
  {
   "cell_type": "code",
   "execution_count": 23,
   "id": "08227c8d-8b45-4339-a916-580834358c4b",
   "metadata": {},
   "outputs": [
    {
     "name": "stdout",
     "output_type": "stream",
     "text": [
      "\n",
      "Covariance:\n",
      "                  age       sex        cp    trestbps         chol       fbs  \\\n",
      "age        82.484558 -0.416661 -0.643499   44.495902   100.585076  0.392433   \n",
      "sex        -0.416661  0.217166 -0.023736   -0.463970    -4.780309  0.007475   \n",
      "cp         -0.643499 -0.023736  1.065132    0.861714    -4.113774  0.034719   \n",
      "trestbps   44.495902 -0.463970  0.861714  307.586453   111.967215  1.109042   \n",
      "chol      100.585076 -4.780309 -4.113774  111.967215  2686.426748  0.245427   \n",
      "fbs         0.392433  0.007475  0.034719    1.109042     0.245427  0.126877   \n",
      "restecg    -0.555013 -0.014261  0.024108   -1.052324    -4.116703 -0.015769   \n",
      "thalach   -82.903318 -0.469871  6.991618  -18.759131   -11.800494 -0.069897   \n",
      "exang       0.413022  0.031014 -0.191168    0.557111     1.631991  0.004295   \n",
      "oldpeak     2.214583  0.051993 -0.178821    3.934486     3.246794  0.002377   \n",
      "slope      -0.944791 -0.008819  0.076137   -1.312832    -0.128964 -0.013147   \n",
      "ca          2.566356  0.056357 -0.191080    1.818373     3.737252  0.050259   \n",
      "thal        0.378139  0.059930 -0.102201    0.668022     3.135488 -0.006983   \n",
      "target     -1.021343 -0.065307  0.223330   -1.267950    -2.203855 -0.004983   \n",
      "\n",
      "           restecg     thalach     exang   oldpeak     slope        ca  \\\n",
      "age      -0.555013  -82.903318  0.413022  2.214583 -0.944791  2.566356   \n",
      "sex      -0.014261   -0.469871  0.031014  0.051993 -0.008819  0.056357   \n",
      "cp        0.024108    6.991618 -0.191168 -0.178821  0.076137 -0.191080   \n",
      "trestbps -1.052324  -18.759131  0.557111  3.934486 -1.312832  1.818373   \n",
      "chol     -4.116703  -11.800494  1.631991  3.246794 -0.128964  3.737252   \n",
      "fbs      -0.015769   -0.069897  0.004295  0.002377 -0.013147  0.050259   \n",
      "restecg   0.276528    0.531462 -0.017474 -0.035883  0.030151 -0.038741   \n",
      "thalach   0.531462  524.646406 -4.076290 -9.153518  5.459369 -4.993235   \n",
      "exang    -0.017474   -4.076290  0.220707  0.157216 -0.074618  0.055603   \n",
      "oldpeak  -0.035883   -9.153518  0.157216  1.348095 -0.413219  0.264396   \n",
      "slope     0.030151    5.459369 -0.074618 -0.413219  0.379735 -0.050510   \n",
      "ca       -0.038741   -4.993235  0.055603  0.264396 -0.050510  1.045724   \n",
      "thal     -0.003858   -1.352491  0.059472  0.149462 -0.039527  0.095065   \n",
      "target    0.035998    4.818766 -0.102354 -0.249452  0.106321 -0.199823   \n",
      "\n",
      "              thal    target  \n",
      "age       0.378139 -1.021343  \n",
      "sex       0.059930 -0.065307  \n",
      "cp       -0.102201  0.223330  \n",
      "trestbps  0.668022 -1.267950  \n",
      "chol      3.135488 -2.203855  \n",
      "fbs      -0.006983 -0.004983  \n",
      "restecg  -0.003858  0.035998  \n",
      "thalach  -1.352491  4.818766  \n",
      "exang     0.059472 -0.102354  \n",
      "oldpeak   0.149462 -0.249452  \n",
      "slope    -0.039527  0.106321  \n",
      "ca        0.095065 -0.199823  \n",
      "thal      0.374883 -0.105075  \n",
      "target   -0.105075  0.248836  \n",
      "\n",
      "Correlation:\n",
      "                age       sex        cp  trestbps      chol       fbs  \\\n",
      "age       1.000000 -0.098447 -0.068653  0.279351  0.213678  0.121308   \n",
      "sex      -0.098447  1.000000 -0.049353 -0.056769 -0.197912  0.045032   \n",
      "cp       -0.068653 -0.049353  1.000000  0.047608 -0.076904  0.094444   \n",
      "trestbps  0.279351 -0.056769  0.047608  1.000000  0.123174  0.177531   \n",
      "chol      0.213678 -0.197912 -0.076904  0.123174  1.000000  0.013294   \n",
      "fbs       0.121308  0.045032  0.094444  0.177531  0.013294  1.000000   \n",
      "restecg  -0.116211 -0.058196  0.044421 -0.114103 -0.151040 -0.084189   \n",
      "thalach  -0.398522 -0.044020  0.295762 -0.046698 -0.009940 -0.008567   \n",
      "exang     0.096801  0.141664 -0.394280  0.067616  0.067023  0.025665   \n",
      "oldpeak   0.210013  0.096093 -0.149230  0.193216  0.053952  0.005747   \n",
      "slope    -0.168814 -0.030711  0.119717 -0.121475 -0.004038 -0.059894   \n",
      "ca        0.276326  0.118261 -0.181053  0.101389  0.070511  0.137979   \n",
      "thal      0.068001  0.210041 -0.161736  0.062210  0.098803 -0.032019   \n",
      "target   -0.225439 -0.280937  0.433798 -0.144931 -0.085239 -0.028046   \n",
      "\n",
      "           restecg   thalach     exang   oldpeak     slope        ca  \\\n",
      "age      -0.116211 -0.398522  0.096801  0.210013 -0.168814  0.276326   \n",
      "sex      -0.058196 -0.044020  0.141664  0.096093 -0.030711  0.118261   \n",
      "cp        0.044421  0.295762 -0.394280 -0.149230  0.119717 -0.181053   \n",
      "trestbps -0.114103 -0.046698  0.067616  0.193216 -0.121475  0.101389   \n",
      "chol     -0.151040 -0.009940  0.067023  0.053952 -0.004038  0.070511   \n",
      "fbs      -0.084189 -0.008567  0.025665  0.005747 -0.059894  0.137979   \n",
      "restecg   1.000000  0.044123 -0.070733 -0.058770  0.093045 -0.072042   \n",
      "thalach   0.044123  1.000000 -0.378812 -0.344187  0.386784 -0.213177   \n",
      "exang    -0.070733 -0.378812  1.000000  0.288223 -0.257748  0.115739   \n",
      "oldpeak  -0.058770 -0.344187  0.288223  1.000000 -0.577537  0.222682   \n",
      "slope     0.093045  0.386784 -0.257748 -0.577537  1.000000 -0.080155   \n",
      "ca       -0.072042 -0.213177  0.115739  0.222682 -0.080155  1.000000   \n",
      "thal     -0.011981 -0.096439  0.206754  0.210244 -0.104764  0.151832   \n",
      "target    0.137230  0.421741 -0.436757 -0.430696  0.345877 -0.391724   \n",
      "\n",
      "              thal    target  \n",
      "age       0.068001 -0.225439  \n",
      "sex       0.210041 -0.280937  \n",
      "cp       -0.161736  0.433798  \n",
      "trestbps  0.062210 -0.144931  \n",
      "chol      0.098803 -0.085239  \n",
      "fbs      -0.032019 -0.028046  \n",
      "restecg  -0.011981  0.137230  \n",
      "thalach  -0.096439  0.421741  \n",
      "exang     0.206754 -0.436757  \n",
      "oldpeak   0.210244 -0.430696  \n",
      "slope    -0.104764  0.345877  \n",
      "ca        0.151832 -0.391724  \n",
      "thal      1.000000 -0.344029  \n",
      "target   -0.344029  1.000000  \n"
     ]
    }
   ],
   "source": [
    "#Covariance and Correlation\n",
    "covariance = df.cov()\n",
    "correlation = df.corr()\n",
    "print(\"\\nCovariance:\\n\", covariance)\n",
    "print(\"\\nCorrelation:\\n\", correlation)"
   ]
  },
  {
   "cell_type": "code",
   "execution_count": 27,
   "id": "fd091be8-2dfc-408b-a7ca-32f1a341990c",
   "metadata": {},
   "outputs": [
    {
     "name": "stdout",
     "output_type": "stream",
     "text": [
      "\n",
      "Number of independent features: 14\n"
     ]
    }
   ],
   "source": [
    "#Number of Independent Features\n",
    "num_features = df.shape[1]\n",
    "print(\"\\nNumber of independent features:\", num_features)"
   ]
  },
  {
   "cell_type": "code",
   "execution_count": 35,
   "id": "377a6ded-d1f6-4246-ac1d-c5d7f784f70f",
   "metadata": {},
   "outputs": [
    {
     "name": "stdout",
     "output_type": "stream",
     "text": [
      "Column: age\n",
      "Mean: 54.43414634146342\n",
      "Variance: 82.22615110053539\n",
      "Standard Deviation: 9.067863645894516\n",
      "\n",
      "Column: trestbps\n",
      "Mean: 131.61170731707318\n",
      "Variance: 306.53605806067816\n",
      "Standard Deviation: 17.508171179785688\n",
      "\n",
      "Column: chol\n",
      "Mean: 246.0\n",
      "Variance: 2659.190243902439\n",
      "Standard Deviation: 51.56733698672483\n",
      "\n",
      "Column: thalach\n",
      "Mean: 149.11414634146342\n",
      "Variance: 528.7469706127305\n",
      "Standard Deviation: 22.994498703227485\n",
      "\n"
     ]
    }
   ],
   "source": [
    "#\n",
    "numerical_columns = ['age', 'trestbps', 'chol', 'thalach']  \n",
    "for col in numerical_columns:\n",
    "    if col in df.columns:\n",
    "        # Calculate mean\n",
    "        mean = df[col].sum() / len(df[col])\n",
    "        \n",
    "        # Calculate variance\n",
    "        variance = ((df[col] - mean) ** 2).sum() / len(df[col])\n",
    "        \n",
    "        # Calculate standard deviation\n",
    "        std_dev = variance ** 0.5\n",
    "        \n",
    "        print(f\"Column: {col}\")\n",
    "        print(f\"Mean: {mean}\")\n",
    "        print(f\"Variance: {variance}\")\n",
    "        print(f\"Standard Deviation: {std_dev}\\n\")\n",
    "    else:\n",
    "        print(f\"Column '{col}' not found in the dataset.\")"
   ]
  },
  {
   "cell_type": "code",
   "execution_count": 5,
   "id": "a7b87824-e993-491f-85c5-0f3dc2fc9996",
   "metadata": {},
   "outputs": [
    {
     "name": "stdout",
     "output_type": "stream",
     "text": [
      "Z-Score Normalized 'chol':\n",
      " 0   -inf\n",
      "1   -inf\n",
      "2   -inf\n",
      "3   -inf\n",
      "4    inf\n",
      "Name: chol_zscore, dtype: float64\n"
     ]
    }
   ],
   "source": [
    "# Z-Score Normalization\n",
    "if 'chol' in df.columns:\n",
    "    mean = df['chol'].sum() / len(df['chol'])\n",
    "    std_dev = ((df['chol'] - mean) * 2).sum() * 0.5 / len(df['chol'])\n",
    "    df['chol_zscore'] = (df['chol'] - mean) / std_dev\n",
    "    print(\"Z-Score Normalized 'chol':\\n\", df['chol_zscore'].head())"
   ]
  },
  {
   "cell_type": "code",
   "execution_count": 7,
   "id": "cb7a9cd7-8824-48f8-a149-6d29bfff38ef",
   "metadata": {},
   "outputs": [
    {
     "name": "stdout",
     "output_type": "stream",
     "text": [
      "Decimal Scaling Normalized 'thalach':\n",
      " 0    0.168\n",
      "1    0.155\n",
      "2    0.125\n",
      "3    0.161\n",
      "4    0.106\n",
      "Name: thalach_decimal, dtype: float64\n"
     ]
    }
   ],
   "source": [
    "# Decimal Scaling Normalization\n",
    "if 'thalach' in df.columns:\n",
    "    max_abs_value = df['thalach'].abs().max()\n",
    "    scale = 10 ** (len(str(int(max_abs_value))))\n",
    "    df['thalach_decimal'] = df['thalach'] / scale\n",
    "    print(\"Decimal Scaling Normalized 'thalach':\\n\", df['thalach_decimal'].head())"
   ]
  },
  {
   "cell_type": "code",
   "execution_count": 9,
   "id": "0bb46955-f6a3-452b-97ce-65dd651560fe",
   "metadata": {},
   "outputs": [
    {
     "name": "stdout",
     "output_type": "stream",
     "text": [
      "Min-Max Normalized 'trestbps':\n",
      " 0    0.292453\n",
      "1    0.433962\n",
      "2    0.481132\n",
      "3    0.509434\n",
      "4    0.415094\n",
      "Name: trestbps_minmax, dtype: float64\n"
     ]
    }
   ],
   "source": [
    "# Min-Max Normalization\n",
    "if 'trestbps' in df.columns:\n",
    "    min_val = df['trestbps'].min()\n",
    "    max_val = df['trestbps'].max()\n",
    "    df['trestbps_minmax'] = (df['trestbps'] - min_val) / (max_val - min_val)\n",
    "    print(\"Min-Max Normalized 'trestbps':\\n\", df['trestbps_minmax'].head())\n"
   ]
  },
  {
   "cell_type": "code",
   "execution_count": null,
   "id": "87afde17-8d70-4ccd-929c-d95264b915ee",
   "metadata": {},
   "outputs": [],
   "source": []
  }
 ],
 "metadata": {
  "kernelspec": {
   "display_name": "Python 3 (ipykernel)",
   "language": "python",
   "name": "python3"
  },
  "language_info": {
   "codemirror_mode": {
    "name": "ipython",
    "version": 3
   },
   "file_extension": ".py",
   "mimetype": "text/x-python",
   "name": "python",
   "nbconvert_exporter": "python",
   "pygments_lexer": "ipython3",
   "version": "3.12.4"
  }
 },
 "nbformat": 4,
 "nbformat_minor": 5
}
